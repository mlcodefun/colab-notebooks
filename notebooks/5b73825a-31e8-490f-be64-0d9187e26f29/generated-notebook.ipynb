{
 "cells": [
  {
   "cell_type": "markdown",
   "metadata": {},
   "source": [
    "Before running: "
   ]
  },
  {
   "cell_type": "code",
   "execution_count": null,
   "metadata": {},
   "outputs": [],
   "source": [
    "! pip install numpy sklearn torchvision comet_ml"
   ]
  },
  {
   "cell_type": "code",
   "execution_count": null,
   "metadata": {
    "lines_to_next_cell": 2
   },
   "outputs": [],
   "source": [
    "from comet_ml import Experiment  # has to be 1st import\n",
    "import numpy as np\n",
    "import sklearn\n",
    "from sklearn.svm import SVC\n",
    "from torchvision import datasets, transforms"
   ]
  },
  {
   "cell_type": "markdown",
   "metadata": {
    "lines_to_next_cell": 2
   },
   "source": [
    "# Setup"
   ]
  },
  {
   "cell_type": "code",
   "execution_count": null,
   "metadata": {
    "lines_to_next_cell": 0
   },
   "outputs": [],
   "source": [
    "# INSERT YOUR DATA HERE\n",
    "# Expected format: One folder per class, e.g.\n",
    "# train"
   ]
  },
  {
   "cell_type": "code",
   "execution_count": null,
   "metadata": {
    "lines_to_next_cell": 0,
    "title": "-- dogs"
   },
   "outputs": [],
   "source": [
    "# |   +-- lassie.jpg\n",
    "# |   +-- komissar-rex.png"
   ]
  },
  {
   "cell_type": "code",
   "execution_count": null,
   "metadata": {
    "title": "-- cats"
   },
   "outputs": [],
   "source": [
    "# |   +-- garfield.png\n",
    "# |   +-- smelly-cat.png\n",
    "train_data = \"path/to/data/dir\"  # required\n",
    "val_data = None                  # optional\n",
    "test_data = None                 # optional\n",
    "\n",
    "# Set up logging.\n",
    "experiment = Experiment(\"\")\n",
    "\n",
    "\n",
    "# # Preprocessing\n",
    "\n",
    "\n",
    "def preprocess(data, name):\n",
    "    if data is None:  # val/test can be empty\n",
    "        return None\n",
    "\n",
    "    # Read image files to pytorch dataset (only temporary).\n",
    "    transform = transforms.Compose(\n",
    "        [transforms.Resize(28), transforms.ToTensor()]\n",
    "    )\n",
    "    data = datasets.ImageFolder(data, transform=transform)\n",
    "    \n",
    "    # Convert to numpy arrays.\n",
    "    images_shape = (len(data), *data[0][0].shape)\n",
    "    images = np.zeros(images_shape)\n",
    "    labels = np.zeros(len(data))\n",
    "    for i, (image, label) in enumerate(data):\n",
    "        images[i] = image\n",
    "        labels[i] = label\n",
    "\n",
    "    # Flatten.\n",
    "    images = images.reshape(len(images), -1)\n",
    "\n",
    "    # Shuffle train set.\n",
    "    if name == \"train\":\n",
    "        images, labels = sklearn.utils.shuffle(images, labels)\n",
    "\n",
    "    return [images, labels]\n",
    "\n",
    "processed_train_data = preprocess(train_data, \"train\")\n",
    "processed_val_data = preprocess(val_data, \"val\")\n",
    "processed_test_data = preprocess(test_data, \"test\")\n",
    "\n",
    "\n",
    "# # Model\n",
    "\n",
    "\n",
    "model = SVC()\n",
    "\n",
    "\n",
    "# # Training\n",
    "\n",
    "\n",
    "def evaluate(data, name):\n",
    "    if data is None:  # val/test can be empty\n",
    "        return\n",
    "\n",
    "    images, labels = data\n",
    "    acc = model.score(images, labels)\n",
    "    print(f\"{name} accuracy:\".ljust(18) + str(acc))\n",
    "    experiment.log_metric(f\"{name}_accuracy\", acc)\n",
    "\n",
    "# Train on train_data.\n",
    "model.fit(*processed_train_data)\n",
    "\n",
    "# Evaluate on all datasets.\n",
    "evaluate(processed_train_data, \"train\")\n",
    "evaluate(processed_val_data, \"val\")\n",
    "evaluate(processed_test_data, \"test\")"
   ]
  }
 ],
 "metadata": {
  "jupytext": {
   "cell_metadata_filter": "title,-all",
   "main_language": "python",
   "notebook_metadata_filter": "-all"
  }
 },
 "nbformat": 4,
 "nbformat_minor": 4
}