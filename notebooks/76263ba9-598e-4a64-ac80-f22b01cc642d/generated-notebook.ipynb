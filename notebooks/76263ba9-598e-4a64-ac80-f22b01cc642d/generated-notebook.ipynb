{
 "cells": [
  {
   "cell_type": "markdown",
   "id": "63251caf",
   "metadata": {},
   "source": [
    "Before running, install required packages:"
   ]
  },
  {
   "cell_type": "code",
   "execution_count": null,
   "id": "63ba638c",
   "metadata": {},
   "outputs": [],
   "source": [
    "! pip install numpy torch torchvision pytorch-ignite wandb"
   ]
  },
  {
   "cell_type": "markdown",
   "id": "4c499c46",
   "metadata": {},
   "source": [
    "Also, you need to login to Weights & Biases on the terminal:"
   ]
  },
  {
   "cell_type": "code",
   "execution_count": null,
   "id": "68ecf169",
   "metadata": {
    "lines_to_next_cell": 2
   },
   "outputs": [],
   "source": [
    "! wandb login"
   ]
  },
  {
   "cell_type": "markdown",
   "id": "b8102c59",
   "metadata": {
    "lines_to_next_cell": 2
   },
   "source": [
    "---"
   ]
  },
  {
   "cell_type": "code",
   "execution_count": null,
   "id": "87c3f24e",
   "metadata": {},
   "outputs": [],
   "source": [
    "import numpy as np\n",
    "import torch\n",
    "from torch import optim, nn\n",
    "from torch.utils.data import DataLoader, TensorDataset\n",
    "from torchvision import models, datasets, transforms\n",
    "from ignite.engine import Events, create_supervised_trainer, create_supervised_evaluator\n",
    "from ignite.metrics import Accuracy, Loss\n",
    "import urllib\n",
    "import zipfile\n",
    "from datetime import datetime\n",
    "import wandb\n",
    "from pathlib import Path"
   ]
  },
  {
   "cell_type": "code",
   "execution_count": null,
   "id": "abcf01e5",
   "metadata": {
    "lines_to_next_cell": 2
   },
   "outputs": [],
   "source": [
    "# COMMENT THIS OUT IF YOU USE YOUR OWN DATA.\n",
    "# Download example data into ./data/image-data (4 image files, 2 for \"dog\", 2 for \"cat\").\n",
    "url = \"https://github.com/jrieke/traingenerator/raw/main/data/fake-image-data.zip\"\n",
    "zip_path, _ = urllib.request.urlretrieve(url)\n",
    "with zipfile.ZipFile(zip_path, \"r\") as f:\n",
    "    f.extractall(\"data\")"
   ]
  },
  {
   "cell_type": "markdown",
   "id": "5af6c91c",
   "metadata": {
    "lines_to_next_cell": 2
   },
   "source": [
    "# Setup"
   ]
  },
  {
   "cell_type": "code",
   "execution_count": null,
   "id": "ecb93406",
   "metadata": {},
   "outputs": [],
   "source": [
    "# INSERT YOUR DATA HERE\n",
    "# Expected format: One folder per class, e.g.\n",
    "# train\n",
    "# --- dogs\n",
    "# |   +-- lassie.jpg\n",
    "# |   +-- komissar-rex.png\n",
    "# --- cats\n",
    "# |   +-- garfield.png\n",
    "# |   +-- smelly-cat.png\n",
    "#\n",
    "# Example: https://github.com/jrieke/traingenerator/tree/main/data/image-data\n",
    "train_data = \"data/image-data\"  # required\n",
    "val_data = \"data/image-data\"    # optional\n",
    "test_data = None                # optional"
   ]
  },
  {
   "cell_type": "code",
   "execution_count": null,
   "id": "a09b6901",
   "metadata": {},
   "outputs": [],
   "source": [
    "# Set up hyperparameters.\n",
    "lr = 0.001\n",
    "batch_size = 128\n",
    "num_epochs = 3"
   ]
  },
  {
   "cell_type": "code",
   "execution_count": null,
   "id": "7aa2abb5",
   "metadata": {},
   "outputs": [],
   "source": [
    "# Set up logging.\n",
    "experiment_id = datetime.now().strftime('%Y-%m-%d_%H-%M-%S')\n",
    "wandb.init(\n",
    "    config={\"lr\": lr, \"batch_size\": batch_size, \"num_epochs\": num_epochs}\n",
    ")\n",
    "checkpoint_dir = Path(f\"checkpoints/{experiment_id}\")\n",
    "checkpoint_dir.mkdir(parents=True, exist_ok=True)\n",
    "print_every = 1  # batches"
   ]
  },
  {
   "cell_type": "code",
   "execution_count": null,
   "id": "d1692d5d",
   "metadata": {
    "lines_to_next_cell": 2
   },
   "outputs": [],
   "source": [
    "# Set up device.\n",
    "use_cuda = torch.cuda.is_available()\n",
    "device = torch.device(\"cuda\" if use_cuda else \"cpu\")"
   ]
  },
  {
   "cell_type": "markdown",
   "id": "4a6e366d",
   "metadata": {
    "lines_to_next_cell": 2
   },
   "source": [
    "# Preprocessing"
   ]
  },
  {
   "cell_type": "code",
   "execution_count": null,
   "id": "64129a06",
   "metadata": {
    "lines_to_next_cell": 1
   },
   "outputs": [],
   "source": [
    "def preprocess(data, name):\n",
    "    if data is None:  # val/test can be empty\n",
    "        return None\n",
    "\n",
    "    # Read image files to pytorch dataset.\n",
    "    transform = transforms.Compose([\n",
    "        transforms.Resize(256), \n",
    "        transforms.CenterCrop(224), \n",
    "        transforms.ToTensor(), \n",
    "    ])\n",
    "    dataset = datasets.ImageFolder(data, transform=transform)\n",
    "\n",
    "    # Wrap in data loader.\n",
    "    if use_cuda:\n",
    "        kwargs = {\"pin_memory\": True, \"num_workers\": 1}\n",
    "    else:\n",
    "        kwargs = {}\n",
    "    loader = DataLoader(dataset, batch_size=batch_size, shuffle=(name==\"train\"), **kwargs)\n",
    "    return loader"
   ]
  },
  {
   "cell_type": "code",
   "execution_count": null,
   "id": "7d6af92c",
   "metadata": {
    "lines_to_next_cell": 2
   },
   "outputs": [],
   "source": [
    "train_loader = preprocess(train_data, \"train\")\n",
    "val_loader = preprocess(val_data, \"val\")\n",
    "test_loader = preprocess(test_data, \"test\")"
   ]
  },
  {
   "cell_type": "markdown",
   "id": "22162f3a",
   "metadata": {
    "lines_to_next_cell": 2
   },
   "source": [
    "# Model"
   ]
  },
  {
   "cell_type": "code",
   "execution_count": null,
   "id": "332f763a",
   "metadata": {},
   "outputs": [],
   "source": [
    "# Set up model, loss, optimizer.\n",
    "model = models.densenet121(pretrained=False)\n",
    "model = model.to(device)\n",
    "loss_func = nn.CrossEntropyLoss()\n",
    "optimizer = optim.Adam(model.parameters(), lr=lr)"
   ]
  },
  {
   "cell_type": "code",
   "execution_count": null,
   "id": "79c2c37d",
   "metadata": {
    "lines_to_next_cell": 2
   },
   "outputs": [],
   "source": [
    "# Log gradients and model parameters to W&B.\n",
    "wandb.watch(model)"
   ]
  },
  {
   "cell_type": "markdown",
   "id": "fd0f764b",
   "metadata": {
    "lines_to_next_cell": 2
   },
   "source": [
    "# Training"
   ]
  },
  {
   "cell_type": "code",
   "execution_count": null,
   "id": "3afc3fe5",
   "metadata": {
    "lines_to_next_cell": 1
   },
   "outputs": [],
   "source": [
    "# Set up pytorch-ignite trainer and evaluator.\n",
    "trainer = create_supervised_trainer(\n",
    "    model,\n",
    "    optimizer,\n",
    "    loss_func,\n",
    "    device=device,\n",
    ")\n",
    "metrics = {\n",
    "    \"accuracy\": Accuracy(),\n",
    "    \"loss\": Loss(loss_func),\n",
    "}\n",
    "evaluator = create_supervised_evaluator(\n",
    "    model, metrics=metrics, device=device\n",
    ")"
   ]
  },
  {
   "cell_type": "code",
   "execution_count": null,
   "id": "f8b25910",
   "metadata": {
    "lines_to_next_cell": 1
   },
   "outputs": [],
   "source": [
    "@trainer.on(Events.ITERATION_COMPLETED(every=print_every))\n",
    "def log_batch(trainer):\n",
    "    batch = (trainer.state.iteration - 1) % trainer.state.epoch_length + 1\n",
    "    print(\n",
    "        f\"Epoch {trainer.state.epoch} / {num_epochs}, \"\n",
    "        f\"batch {batch} / {trainer.state.epoch_length}: \"\n",
    "        f\"loss: {trainer.state.output:.3f}\"\n",
    "    )"
   ]
  },
  {
   "cell_type": "code",
   "execution_count": null,
   "id": "987fc2fe",
   "metadata": {
    "lines_to_next_cell": 1
   },
   "outputs": [],
   "source": [
    "@trainer.on(Events.EPOCH_COMPLETED)\n",
    "def log_epoch(trainer):\n",
    "    print(f\"Epoch {trainer.state.epoch} / {num_epochs} average results: \")\n",
    "\n",
    "    def log_results(name, metrics, epoch):\n",
    "        print(\n",
    "            f\"{name + ':':6} loss: {metrics['loss']:.3f}, \"\n",
    "            f\"accuracy: {metrics['accuracy']:.3f}\"\n",
    "        )\n",
    "        wandb.log({f\"{name}_loss\": metrics[\"loss\"], f\"{name}_accuracy\": metrics[\"accuracy\"]})\n",
    "\n",
    "    # Train data.\n",
    "    evaluator.run(train_loader)\n",
    "    log_results(\"train\", evaluator.state.metrics, trainer.state.epoch)\n",
    "    \n",
    "    # Val data.\n",
    "    if val_loader:\n",
    "        evaluator.run(val_loader)\n",
    "        log_results(\"val\", evaluator.state.metrics, trainer.state.epoch)\n",
    "\n",
    "    # Test data.\n",
    "    if test_loader:\n",
    "        evaluator.run(test_loader)\n",
    "        log_results(\"test\", evaluator.state.metrics, trainer.state.epoch)\n",
    "\n",
    "    print()\n",
    "    print(\"-\" * 80)\n",
    "    print()"
   ]
  },
  {
   "cell_type": "code",
   "execution_count": null,
   "id": "425d1288",
   "metadata": {
    "lines_to_next_cell": 1
   },
   "outputs": [],
   "source": [
    "@trainer.on(Events.EPOCH_COMPLETED)\n",
    "def checkpoint_model(trainer):\n",
    "    torch.save(model, checkpoint_dir / f\"model-epoch{trainer.state.epoch}.pt\")"
   ]
  },
  {
   "cell_type": "code",
   "execution_count": null,
   "id": "3797a219",
   "metadata": {},
   "outputs": [],
   "source": [
    "# Start training.\n",
    "trainer.run(train_loader, max_epochs=num_epochs)\n",
    "wandb.finish()"
   ]
  }
 ],
 "metadata": {
  "jupytext": {
   "cell_metadata_filter": "-all",
   "main_language": "python",
   "notebook_metadata_filter": "-all"
  }
 },
 "nbformat": 4,
 "nbformat_minor": 5
}