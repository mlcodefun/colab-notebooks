{
 "cells": [
  {
   "cell_type": "markdown",
   "id": "7adb2821",
   "metadata": {},
   "source": [
    "Before running, install required packages:"
   ]
  },
  {
   "cell_type": "code",
   "execution_count": null,
   "id": "6f2ffa82",
   "metadata": {},
   "outputs": [],
   "source": [
    "! pip install numpy torch torchvision pytorch-ignite wandb"
   ]
  },
  {
   "cell_type": "markdown",
   "id": "d00262e5",
   "metadata": {},
   "source": [
    "Also, you need to login to Weights & Biases on the terminal:"
   ]
  },
  {
   "cell_type": "code",
   "execution_count": null,
   "id": "11a23490",
   "metadata": {
    "lines_to_next_cell": 2
   },
   "outputs": [],
   "source": [
    "! wandb login"
   ]
  },
  {
   "cell_type": "markdown",
   "id": "413e3632",
   "metadata": {
    "lines_to_next_cell": 2
   },
   "source": [
    "---"
   ]
  },
  {
   "cell_type": "code",
   "execution_count": null,
   "id": "d430fce1",
   "metadata": {
    "lines_to_next_cell": 2
   },
   "outputs": [],
   "source": [
    "import numpy as np\n",
    "import torch\n",
    "from torch import optim, nn\n",
    "from torch.utils.data import DataLoader, TensorDataset\n",
    "from torchvision import models, datasets, transforms\n",
    "from ignite.engine import Events, create_supervised_trainer, create_supervised_evaluator\n",
    "from ignite.metrics import Accuracy, Loss\n",
    "import wandb"
   ]
  },
  {
   "cell_type": "markdown",
   "id": "e31d66be",
   "metadata": {
    "lines_to_next_cell": 2
   },
   "source": [
    "# Setup"
   ]
  },
  {
   "cell_type": "markdown",
   "id": "5f3a9e4a",
   "metadata": {},
   "source": [
    "Dataset MNIST will be loaded further down."
   ]
  },
  {
   "cell_type": "code",
   "execution_count": null,
   "id": "111c7ab5",
   "metadata": {},
   "outputs": [],
   "source": [
    "# Set up hyperparameters.\n",
    "lr = 0.001\n",
    "batch_size = 32\n",
    "num_epochs = 20"
   ]
  },
  {
   "cell_type": "code",
   "execution_count": null,
   "id": "a4476762",
   "metadata": {},
   "outputs": [],
   "source": [
    "# Set up logging.\n",
    "wandb.init(\n",
    "    config={\"lr\": lr, \"batch_size\": batch_size, \"num_epochs\": num_epochs}\n",
    ")\n",
    "print_every = 1  # batches"
   ]
  },
  {
   "cell_type": "code",
   "execution_count": null,
   "id": "cad0d666",
   "metadata": {
    "lines_to_next_cell": 2
   },
   "outputs": [],
   "source": [
    "# Set up device.\n",
    "use_cuda = torch.cuda.is_available()\n",
    "device = torch.device(\"cuda\" if use_cuda else \"cpu\")"
   ]
  },
  {
   "cell_type": "markdown",
   "id": "cfab9411",
   "metadata": {
    "lines_to_next_cell": 2
   },
   "source": [
    "# Dataset & Preprocessing"
   ]
  },
  {
   "cell_type": "code",
   "execution_count": null,
   "id": "3cc7c2ad",
   "metadata": {
    "lines_to_next_cell": 1
   },
   "outputs": [],
   "source": [
    "def load_data(train):\n",
    "    # Download and transform dataset.\n",
    "    transform = transforms.Compose([\n",
    "        transforms.Resize(256), \n",
    "        transforms.CenterCrop(224), \n",
    "        transforms.ToTensor(), \n",
    "        transforms.Lambda(lambda x: x.repeat(3, 1, 1)),  # grayscale to RGB\n",
    "    ])\n",
    "    dataset = datasets.MNIST(\"./data\", train=train, download=True, transform=transform)\n",
    "\n",
    "    # Wrap in data loader.\n",
    "    if use_cuda:\n",
    "        kwargs = {\"pin_memory\": True, \"num_workers\": 1}\n",
    "    else:\n",
    "        kwargs = {}\n",
    "    loader = DataLoader(dataset, batch_size=batch_size, shuffle=train, **kwargs)\n",
    "    return loader"
   ]
  },
  {
   "cell_type": "code",
   "execution_count": null,
   "id": "0c3deb25",
   "metadata": {
    "lines_to_next_cell": 2
   },
   "outputs": [],
   "source": [
    "train_loader = load_data(train=True)\n",
    "val_loader = None\n",
    "test_loader = load_data(train=False)"
   ]
  },
  {
   "cell_type": "markdown",
   "id": "83e5573a",
   "metadata": {
    "lines_to_next_cell": 2
   },
   "source": [
    "# Model"
   ]
  },
  {
   "cell_type": "code",
   "execution_count": null,
   "id": "c7d06c93",
   "metadata": {},
   "outputs": [],
   "source": [
    "# Set up model, loss, optimizer.\n",
    "model = models.resnet18(pretrained=True)\n",
    "num_classes = 2\n",
    "model.fc = torch.nn.Linear(in_features=model.fc.in_features, out_features=num_classes, bias=True)\n",
    "model = model.to(device)\n",
    "loss_func = nn.CrossEntropyLoss()\n",
    "optimizer = optim.Adam(model.parameters(), lr=lr)"
   ]
  },
  {
   "cell_type": "code",
   "execution_count": null,
   "id": "27d90c04",
   "metadata": {
    "lines_to_next_cell": 2
   },
   "outputs": [],
   "source": [
    "# Log gradients and model parameters to W&B.\n",
    "wandb.watch(model)"
   ]
  },
  {
   "cell_type": "markdown",
   "id": "fe7b7e88",
   "metadata": {
    "lines_to_next_cell": 2
   },
   "source": [
    "# Training"
   ]
  },
  {
   "cell_type": "code",
   "execution_count": null,
   "id": "ee0d923f",
   "metadata": {
    "lines_to_next_cell": 1
   },
   "outputs": [],
   "source": [
    "# Set up pytorch-ignite trainer and evaluator.\n",
    "trainer = create_supervised_trainer(\n",
    "    model,\n",
    "    optimizer,\n",
    "    loss_func,\n",
    "    device=device,\n",
    ")\n",
    "metrics = {\n",
    "    \"accuracy\": Accuracy(),\n",
    "    \"loss\": Loss(loss_func),\n",
    "}\n",
    "evaluator = create_supervised_evaluator(\n",
    "    model, metrics=metrics, device=device\n",
    ")"
   ]
  },
  {
   "cell_type": "code",
   "execution_count": null,
   "id": "316edad0",
   "metadata": {
    "lines_to_next_cell": 1
   },
   "outputs": [],
   "source": [
    "@trainer.on(Events.ITERATION_COMPLETED(every=print_every))\n",
    "def log_batch(trainer):\n",
    "    batch = (trainer.state.iteration - 1) % trainer.state.epoch_length + 1\n",
    "    print(\n",
    "        f\"Epoch {trainer.state.epoch} / {num_epochs}, \"\n",
    "        f\"batch {batch} / {trainer.state.epoch_length}: \"\n",
    "        f\"loss: {trainer.state.output:.3f}\"\n",
    "    )"
   ]
  },
  {
   "cell_type": "code",
   "execution_count": null,
   "id": "54d6b245",
   "metadata": {
    "lines_to_next_cell": 1
   },
   "outputs": [],
   "source": [
    "@trainer.on(Events.EPOCH_COMPLETED)\n",
    "def log_epoch(trainer):\n",
    "    print(f\"Epoch {trainer.state.epoch} / {num_epochs} average results: \")\n",
    "\n",
    "    def log_results(name, metrics, epoch):\n",
    "        print(\n",
    "            f\"{name + ':':6} loss: {metrics['loss']:.3f}, \"\n",
    "            f\"accuracy: {metrics['accuracy']:.3f}\"\n",
    "        )\n",
    "        wandb.log({f\"{name}_loss\": metrics[\"loss\"], f\"{name}_accuracy\": metrics[\"accuracy\"]})\n",
    "\n",
    "    # Train data.\n",
    "    evaluator.run(train_loader)\n",
    "    log_results(\"train\", evaluator.state.metrics, trainer.state.epoch)\n",
    "    \n",
    "    # Val data.\n",
    "    if val_loader:\n",
    "        evaluator.run(val_loader)\n",
    "        log_results(\"val\", evaluator.state.metrics, trainer.state.epoch)\n",
    "\n",
    "    # Test data.\n",
    "    if test_loader:\n",
    "        evaluator.run(test_loader)\n",
    "        log_results(\"test\", evaluator.state.metrics, trainer.state.epoch)\n",
    "\n",
    "    print()\n",
    "    print(\"-\" * 80)\n",
    "    print()"
   ]
  },
  {
   "cell_type": "code",
   "execution_count": null,
   "id": "1fb5bb78",
   "metadata": {},
   "outputs": [],
   "source": [
    "# Start training.\n",
    "trainer.run(train_loader, max_epochs=num_epochs)\n",
    "wandb.finish()"
   ]
  }
 ],
 "metadata": {
  "jupytext": {
   "cell_metadata_filter": "-all",
   "main_language": "python",
   "notebook_metadata_filter": "-all"
  }
 },
 "nbformat": 4,
 "nbformat_minor": 5
}