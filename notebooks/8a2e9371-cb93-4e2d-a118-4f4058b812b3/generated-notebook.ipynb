{
 "cells": [
  {
   "cell_type": "markdown",
   "metadata": {},
   "source": [
    "Before running: pip install numpy pytorch torchvision "
   ]
  },
  {
   "cell_type": "code",
   "execution_count": null,
   "metadata": {
    "lines_to_next_cell": 1
   },
   "outputs": [],
   "source": [
    "import numpy as np\n",
    "import torch\n",
    "from torchvision import models, datasets, transforms"
   ]
  },
  {
   "cell_type": "code",
   "execution_count": null,
   "metadata": {
    "lines_to_next_cell": 1
   },
   "outputs": [],
   "source": [
    "def fake_data():\n",
    "    return [np.random.rand(100, 1, 28, 28), np.random.randint(10, size=100)]"
   ]
  },
  {
   "cell_type": "code",
   "execution_count": null,
   "metadata": {},
   "outputs": [],
   "source": [
    "# INSERT YOUR DATA HERE\n",
    "train_data = fake_data()  # required\n",
    "val_data = None           # optional\n",
    "test_data = None          # optional"
   ]
  },
  {
   "cell_type": "code",
   "execution_count": null,
   "metadata": {
    "lines_to_next_cell": 1
   },
   "outputs": [],
   "source": [
    "# Set up globals.\n",
    "model = models.alexnet()"
   ]
  },
  {
   "cell_type": "code",
   "execution_count": null,
   "metadata": {},
   "outputs": [],
   "source": [
    "def preprocess(data, name):\n",
    "    if data is None:  # val/test can be empty\n",
    "        return None\n",
    "\n",
    "    images, labels = data\n",
    "\n",
    "    # Rescale images to 0-255 and convert to uint8.\n",
    "    # Note: This is done for each dataset individually, which is usually ok if all \n",
    "    # datasets look similar. If not, scale all datasets based on min/ptp of train set.\n",
    "    images = (images - np.min(images)) / np.ptp(images) * 255\n",
    "    images = images.astype(np.uint8)\n",
    "\n",
    "    # If images are grayscale, convert to RGB by duplicating channels.\n",
    "    if images.shape[1] == 1:\n",
    "        images = np.stack((images[:, 0],) * 3, axis=1)\n",
    "\n",
    "    # Convert images to channels last format (required for transforms.ToPILImage).\n",
    "    images = images.transpose((0, 2, 3, 1))\n",
    "\n",
    "    # Convert labels to tensors.\n",
    "    labels = torch.from_numpy(labels).long()\n",
    "\n",
    "    # Construct dataset.\n",
    "    transform = transforms.Compose([\n",
    "        transforms.ToPILImage(),\n",
    "        transforms.Resize(256), \n",
    "        transforms.CenterCrop(224), \n",
    "        transforms.ToTensor(), \n",
    "    ])\n",
    "    data = ImageDataset(images, labels, transform=transform)\n",
    "\n",
    "    return data"
   ]
  }
 ],
 "metadata": {
  "jupytext": {
   "cell_metadata_filter": "-all",
   "main_language": "python",
   "notebook_metadata_filter": "-all"
  }
 },
 "nbformat": 4,
 "nbformat_minor": 4
}