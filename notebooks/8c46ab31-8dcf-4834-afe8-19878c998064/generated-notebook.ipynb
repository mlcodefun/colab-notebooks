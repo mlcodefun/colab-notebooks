{
 "cells": [
  {
   "cell_type": "code",
   "execution_count": null,
   "metadata": {},
   "outputs": [],
   "source": [
    "# Before running: pip install numpy sklearn torchvision comet_ml\n",
    "from comet_ml import Experiment  # has to be 1st import\n",
    "import numpy as np\n",
    "import sklearn\n",
    "from sklearn.linear_model import Perceptron\n",
    "from torchvision import datasets, transforms"
   ]
  },
  {
   "cell_type": "code",
   "execution_count": null,
   "metadata": {},
   "outputs": [],
   "source": [
    "# INSERT YOUR DATA HERE\n",
    "train_data = \"path/to/data/dir\"  # required\n",
    "val_data = None                  # optional\n",
    "test_data = None                 # optional"
   ]
  },
  {
   "cell_type": "code",
   "execution_count": null,
   "metadata": {
    "lines_to_next_cell": 1
   },
   "outputs": [],
   "source": [
    "# Set up globals.\n",
    "model = Perceptron()\n",
    "experiment = Experiment(\"hellsoiower\")"
   ]
  },
  {
   "cell_type": "code",
   "execution_count": null,
   "metadata": {
    "lines_to_next_cell": 1
   },
   "outputs": [],
   "source": [
    "def preprocess(data, name):\n",
    "    if data is None:  # val/test can be empty\n",
    "        return None\n",
    "\n",
    "    # Read image files to pytorch dataset (only temporary).\n",
    "    transform = transforms.Compose(\n",
    "        [transforms.Resize(28), transforms.CenterCrop(26), transforms.ToTensor()]\n",
    "    )\n",
    "    data = datasets.ImageFolder(data, transform=transform)\n",
    "    \n",
    "    # Convert to numpy arrays.\n",
    "    images_shape = (len(data), *data[0][0].shape)\n",
    "    images = np.zeros(images_shape)\n",
    "    labels = np.zeros(len(data))\n",
    "    for i, (image, label) in enumerate(data):\n",
    "        images[i] = image\n",
    "        labels[i] = label\n",
    "\n",
    "    # Flatten.\n",
    "    images = images.reshape(len(images), -1)\n",
    "\n",
    "    # Shuffle train set.\n",
    "    if name == \"train\":\n",
    "        images, labels = sklearn.utils.shuffle(images, labels)\n",
    "\n",
    "    return [images, labels]"
   ]
  },
  {
   "cell_type": "code",
   "execution_count": null,
   "metadata": {
    "lines_to_next_cell": 1
   },
   "outputs": [],
   "source": [
    "def evaluate(data, name):\n",
    "    if data is None:  # val/test can be empty\n",
    "        return\n",
    "\n",
    "    images, labels = data\n",
    "    acc = model.score(images, labels)\n",
    "    print(f\"{name} accuracy:\".ljust(18) + str(acc))\n",
    "    experiment.log_metric(f\"{name}_accuracy\", acc)"
   ]
  },
  {
   "cell_type": "code",
   "execution_count": null,
   "metadata": {
    "lines_to_next_cell": 1
   },
   "outputs": [],
   "source": [
    "def train(train_data, val_data=None, test_data=None):\n",
    "    # Train on train_data.\n",
    "    train_images, train_labels = train_data\n",
    "    model.fit(train_images, train_labels)\n",
    "\n",
    "    # Evaluate on all datasets.\n",
    "    evaluate(train_data, \"train\")\n",
    "    evaluate(val_data, \"val\")\n",
    "    evaluate(test_data, \"test\")"
   ]
  },
  {
   "cell_type": "code",
   "execution_count": null,
   "metadata": {},
   "outputs": [],
   "source": [
    "train_data = preprocess(train_data, \"train\")\n",
    "val_data = preprocess(val_data, \"val\")\n",
    "test_data = preprocess(test_data, \"test\")"
   ]
  },
  {
   "cell_type": "code",
   "execution_count": null,
   "metadata": {},
   "outputs": [],
   "source": [
    "train(train_data, val_data, test_data)"
   ]
  }
 ],
 "metadata": {
  "jupytext": {
   "cell_metadata_filter": "-all",
   "main_language": "python",
   "notebook_metadata_filter": "-all"
  }
 },
 "nbformat": 4,
 "nbformat_minor": 4
}