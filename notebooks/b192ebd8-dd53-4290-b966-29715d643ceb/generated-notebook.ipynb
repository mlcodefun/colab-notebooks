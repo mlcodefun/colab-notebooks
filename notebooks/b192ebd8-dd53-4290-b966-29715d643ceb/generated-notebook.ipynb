{
 "cells": [
  {
   "cell_type": "markdown",
   "id": "665ec528",
   "metadata": {},
   "source": [
    "Before running, install required packages:"
   ]
  },
  {
   "cell_type": "code",
   "execution_count": null,
   "id": "2b63a473",
   "metadata": {},
   "outputs": [],
   "source": [
    "! pip install numpy sklearn tensorboardX"
   ]
  },
  {
   "cell_type": "markdown",
   "id": "e113c474",
   "metadata": {
    "lines_to_next_cell": 2
   },
   "source": [
    "---"
   ]
  },
  {
   "cell_type": "code",
   "execution_count": null,
   "id": "d94067b9",
   "metadata": {
    "lines_to_next_cell": 1
   },
   "outputs": [],
   "source": [
    "import numpy as np\n",
    "import sklearn\n",
    "from sklearn.ensemble import RandomForestClassifier\n",
    "from tensorboardX import SummaryWriter\n",
    "from datetime import datetime"
   ]
  },
  {
   "cell_type": "code",
   "execution_count": null,
   "id": "40933e1a",
   "metadata": {
    "lines_to_next_cell": 2
   },
   "outputs": [],
   "source": [
    "def fake_data():\n",
    "    # 4 images of shape 1x16x16 with labels 0, 1, 2, 3\n",
    "    return [np.random.rand(4, 1, 16, 16), np.arange(4)]"
   ]
  },
  {
   "cell_type": "markdown",
   "id": "2d6f9260",
   "metadata": {
    "lines_to_next_cell": 2
   },
   "source": [
    "# Setup"
   ]
  },
  {
   "cell_type": "code",
   "execution_count": null,
   "id": "4e03f391",
   "metadata": {},
   "outputs": [],
   "source": [
    "# INSERT YOUR DATA HERE\n",
    "# Expected format: [images, labels]\n",
    "# - images has array shape (num samples, color channels, height, width)\n",
    "# - labels has array shape (num samples, )\n",
    "train_data = fake_data()  # required\n",
    "val_data = fake_data()    # optional\n",
    "test_data = None          # optional"
   ]
  },
  {
   "cell_type": "code",
   "execution_count": null,
   "id": "f6000c26",
   "metadata": {
    "lines_to_next_cell": 2
   },
   "outputs": [],
   "source": [
    "# Set up logging.\n",
    "experiment_id = datetime.now().strftime('%Y-%m-%d_%H-%M-%S')\n",
    "writer = SummaryWriter(logdir=f\"logs/{experiment_id}\")"
   ]
  },
  {
   "cell_type": "markdown",
   "id": "2b9e3360",
   "metadata": {
    "lines_to_next_cell": 2
   },
   "source": [
    "# Preprocessing"
   ]
  },
  {
   "cell_type": "code",
   "execution_count": null,
   "id": "8205403f",
   "metadata": {
    "lines_to_next_cell": 1
   },
   "outputs": [],
   "source": [
    "# Set up scaler.\n",
    "scaler = sklearn.preprocessing.StandardScaler()"
   ]
  },
  {
   "cell_type": "code",
   "execution_count": null,
   "id": "04f609c3",
   "metadata": {
    "lines_to_next_cell": 1
   },
   "outputs": [],
   "source": [
    "def preprocess(data, name):\n",
    "    if data is None:  # val/test can be empty\n",
    "        return None\n",
    "    images, labels = data\n",
    "\n",
    "    # Flatten.\n",
    "    images = images.reshape(len(images), -1)\n",
    "\n",
    "    # Scale to mean 0 and std 1.\n",
    "    if name == \"train\":\n",
    "        scaler.fit(images)\n",
    "    images = scaler.transform(images)\n",
    "\n",
    "    # Shuffle train set.\n",
    "    if name == \"train\":\n",
    "        images, labels = sklearn.utils.shuffle(images, labels)\n",
    "\n",
    "    return [images, labels]"
   ]
  },
  {
   "cell_type": "code",
   "execution_count": null,
   "id": "40d2969c",
   "metadata": {
    "lines_to_next_cell": 2
   },
   "outputs": [],
   "source": [
    "processed_train_data = preprocess(train_data, \"train\")\n",
    "processed_val_data = preprocess(val_data, \"val\")\n",
    "processed_test_data = preprocess(test_data, \"test\")"
   ]
  },
  {
   "cell_type": "markdown",
   "id": "cbfe657b",
   "metadata": {
    "lines_to_next_cell": 2
   },
   "source": [
    "# Model"
   ]
  },
  {
   "cell_type": "code",
   "execution_count": null,
   "id": "49ae311a",
   "metadata": {
    "lines_to_next_cell": 2
   },
   "outputs": [],
   "source": [
    "model = RandomForestClassifier()"
   ]
  },
  {
   "cell_type": "markdown",
   "id": "4ca29cea",
   "metadata": {
    "lines_to_next_cell": 2
   },
   "source": [
    "# Training"
   ]
  },
  {
   "cell_type": "code",
   "execution_count": null,
   "id": "defcad88",
   "metadata": {
    "lines_to_next_cell": 1
   },
   "outputs": [],
   "source": [
    "def evaluate(data, name):\n",
    "    if data is None:  # val/test can be empty\n",
    "        return\n",
    "\n",
    "    images, labels = data\n",
    "    acc = model.score(images, labels)\n",
    "    print(f\"{name + ':':6} accuracy: {acc}\")\n",
    "    writer.add_scalar(f\"{name}_accuracy\", acc)"
   ]
  },
  {
   "cell_type": "code",
   "execution_count": null,
   "id": "f71e6df3",
   "metadata": {},
   "outputs": [],
   "source": [
    "# Train on train_data.\n",
    "model.fit(*processed_train_data)"
   ]
  },
  {
   "cell_type": "code",
   "execution_count": null,
   "id": "9c3b949f",
   "metadata": {},
   "outputs": [],
   "source": [
    "# Evaluate on all datasets.\n",
    "evaluate(processed_train_data, \"train\")\n",
    "evaluate(processed_val_data, \"val\")\n",
    "evaluate(processed_test_data, \"test\")"
   ]
  }
 ],
 "metadata": {
  "jupytext": {
   "cell_metadata_filter": "-all",
   "main_language": "python",
   "notebook_metadata_filter": "-all"
  }
 },
 "nbformat": 4,
 "nbformat_minor": 5
}