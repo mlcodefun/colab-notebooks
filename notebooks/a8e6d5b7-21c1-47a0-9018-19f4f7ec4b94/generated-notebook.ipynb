{
 "cells": [
  {
   "cell_type": "markdown",
   "id": "838cfebd",
   "metadata": {},
   "source": [
    "Before running, install required packages:"
   ]
  },
  {
   "cell_type": "code",
   "execution_count": null,
   "id": "3da8daba",
   "metadata": {},
   "outputs": [],
   "source": [
    "! pip install numpy torch torchvision pytorch-ignite wandb"
   ]
  },
  {
   "cell_type": "markdown",
   "id": "080ad38a",
   "metadata": {},
   "source": [
    "Also, you need to login to Weights & Biases on the terminal:"
   ]
  },
  {
   "cell_type": "code",
   "execution_count": null,
   "id": "eedd56ed",
   "metadata": {
    "lines_to_next_cell": 2
   },
   "outputs": [],
   "source": [
    "! wandb login"
   ]
  },
  {
   "cell_type": "markdown",
   "id": "1934b487",
   "metadata": {
    "lines_to_next_cell": 2
   },
   "source": [
    "---"
   ]
  },
  {
   "cell_type": "code",
   "execution_count": null,
   "id": "7813d34a",
   "metadata": {
    "lines_to_next_cell": 1
   },
   "outputs": [],
   "source": [
    "import numpy as np\n",
    "import torch\n",
    "from torch import optim, nn\n",
    "from torch.utils.data import DataLoader, TensorDataset\n",
    "from torchvision import models, datasets, transforms\n",
    "from ignite.engine import Events, create_supervised_trainer, create_supervised_evaluator\n",
    "from ignite.metrics import Accuracy, Loss\n",
    "from datetime import datetime\n",
    "import wandb\n",
    "from pathlib import Path"
   ]
  },
  {
   "cell_type": "code",
   "execution_count": null,
   "id": "95c4f3a2",
   "metadata": {
    "lines_to_next_cell": 2
   },
   "outputs": [],
   "source": [
    "def fake_data():\n",
    "    # 4 images of shape 1x16x16 with labels 0, 1, 2, 3\n",
    "    return [np.random.rand(4, 1, 16, 16), np.arange(4)]"
   ]
  },
  {
   "cell_type": "markdown",
   "id": "fd2c344b",
   "metadata": {
    "lines_to_next_cell": 2
   },
   "source": [
    "# Setup"
   ]
  },
  {
   "cell_type": "code",
   "execution_count": null,
   "id": "58323946",
   "metadata": {},
   "outputs": [],
   "source": [
    "# INSERT YOUR DATA HERE\n",
    "# Expected format: [images, labels]\n",
    "# - images has array shape (num samples, color channels, height, width)\n",
    "# - labels has array shape (num samples, )\n",
    "train_data = fake_data()  # required\n",
    "val_data = fake_data()    # optional\n",
    "test_data = None          # optional"
   ]
  },
  {
   "cell_type": "code",
   "execution_count": null,
   "id": "8963d5fd",
   "metadata": {},
   "outputs": [],
   "source": [
    "# Set up hyperparameters.\n",
    "lr = 0.002\n",
    "batch_size = 128\n",
    "num_epochs = 3"
   ]
  },
  {
   "cell_type": "code",
   "execution_count": null,
   "id": "a7e9addc",
   "metadata": {},
   "outputs": [],
   "source": [
    "# Set up logging.\n",
    "experiment_id = datetime.now().strftime('%Y-%m-%d_%H-%M-%S')\n",
    "wandb.init(\n",
    "    project=\"fire\", \n",
    "    config={\"lr\": lr, \"batch_size\": batch_size, \"num_epochs\": num_epochs}\n",
    ")\n",
    "checkpoint_dir = Path(f\"checkpoints/{experiment_id}\")\n",
    "checkpoint_dir.mkdir(parents=True, exist_ok=True)\n",
    "print_every = 1  # batches"
   ]
  },
  {
   "cell_type": "code",
   "execution_count": null,
   "id": "6040d4a9",
   "metadata": {
    "lines_to_next_cell": 2
   },
   "outputs": [],
   "source": [
    "# Set up device.\n",
    "use_cuda = torch.cuda.is_available()\n",
    "device = torch.device(\"cuda\" if use_cuda else \"cpu\")"
   ]
  },
  {
   "cell_type": "markdown",
   "id": "5fc276cf",
   "metadata": {
    "lines_to_next_cell": 2
   },
   "source": [
    "# Preprocessing"
   ]
  },
  {
   "cell_type": "code",
   "execution_count": null,
   "id": "ea291e24",
   "metadata": {
    "lines_to_next_cell": 1
   },
   "outputs": [],
   "source": [
    "def preprocess(data, name):\n",
    "    if data is None:  # val/test can be empty\n",
    "        return None\n",
    "\n",
    "    images, labels = data\n",
    "\n",
    "    # Rescale images to 0-255 and convert to uint8.\n",
    "    # Note: This is done for each dataset individually, which is usually ok if all \n",
    "    # datasets look similar. If not, scale all datasets based on min/ptp of train set.\n",
    "    images = (images - np.min(images)) / np.ptp(images) * 255\n",
    "    images = images.astype(np.uint8)\n",
    "\n",
    "    # If images are grayscale, convert to RGB by duplicating channels.\n",
    "    if images.shape[1] == 1:\n",
    "        images = np.stack((images[:, 0],) * 3, axis=1)\n",
    "\n",
    "    # Resize images and transform images torch tensor.\n",
    "    images = images.transpose((0, 2, 3, 1))  # channels-last, required for transforms.ToPILImage\n",
    "    transform = transforms.Compose([\n",
    "        transforms.ToPILImage(),\n",
    "        transforms.Resize(256), \n",
    "        transforms.CenterCrop(224), \n",
    "        transforms.ToTensor(), \n",
    "        transforms.Normalize(mean=[0.485, 0.456, 0.406], std=[0.229, 0.224, 0.225])\n",
    "    ])\n",
    "    images = torch.stack(list(map(transform, images)))\n",
    "\n",
    "    # Convert labels to tensors.\n",
    "    labels = torch.from_numpy(labels).long()\n",
    "\n",
    "    # Construct dataset.\n",
    "    dataset = TensorDataset(images, labels)\n",
    "\n",
    "    # Wrap in data loader.\n",
    "    if use_cuda:\n",
    "        kwargs = {\"pin_memory\": True, \"num_workers\": 1}\n",
    "    else:\n",
    "        kwargs = {}\n",
    "    loader = DataLoader(dataset, batch_size=batch_size, shuffle=(name==\"train\"), **kwargs)\n",
    "    return loader"
   ]
  },
  {
   "cell_type": "code",
   "execution_count": null,
   "id": "b0f1bd79",
   "metadata": {
    "lines_to_next_cell": 2
   },
   "outputs": [],
   "source": [
    "train_loader = preprocess(train_data, \"train\")\n",
    "val_loader = preprocess(val_data, \"val\")\n",
    "test_loader = preprocess(test_data, \"test\")"
   ]
  },
  {
   "cell_type": "markdown",
   "id": "19ecd3d7",
   "metadata": {
    "lines_to_next_cell": 2
   },
   "source": [
    "# Model"
   ]
  },
  {
   "cell_type": "code",
   "execution_count": null,
   "id": "659337aa",
   "metadata": {},
   "outputs": [],
   "source": [
    "# Set up model, loss, optimizer.\n",
    "model = models.resnet18(pretrained=True)\n",
    "model = model.to(device)\n",
    "loss_func = nn.CrossEntropyLoss()\n",
    "optimizer = optim.Adamax(model.parameters(), lr=lr)"
   ]
  },
  {
   "cell_type": "code",
   "execution_count": null,
   "id": "85c0924b",
   "metadata": {
    "lines_to_next_cell": 2
   },
   "outputs": [],
   "source": [
    "# Log gradients and model parameters to W&B.\n",
    "wandb.watch(model)"
   ]
  },
  {
   "cell_type": "markdown",
   "id": "c39a47e4",
   "metadata": {
    "lines_to_next_cell": 2
   },
   "source": [
    "# Training"
   ]
  },
  {
   "cell_type": "code",
   "execution_count": null,
   "id": "b8e876ea",
   "metadata": {
    "lines_to_next_cell": 1
   },
   "outputs": [],
   "source": [
    "# Set up pytorch-ignite trainer and evaluator.\n",
    "trainer = create_supervised_trainer(\n",
    "    model,\n",
    "    optimizer,\n",
    "    loss_func,\n",
    "    device=device,\n",
    ")\n",
    "metrics = {\n",
    "    \"accuracy\": Accuracy(),\n",
    "    \"loss\": Loss(loss_func),\n",
    "}\n",
    "evaluator = create_supervised_evaluator(\n",
    "    model, metrics=metrics, device=device\n",
    ")"
   ]
  },
  {
   "cell_type": "code",
   "execution_count": null,
   "id": "380424b7",
   "metadata": {
    "lines_to_next_cell": 1
   },
   "outputs": [],
   "source": [
    "@trainer.on(Events.ITERATION_COMPLETED(every=print_every))\n",
    "def log_batch(trainer):\n",
    "    batch = (trainer.state.iteration - 1) % trainer.state.epoch_length + 1\n",
    "    print(\n",
    "        f\"Epoch {trainer.state.epoch} / {num_epochs}, \"\n",
    "        f\"batch {batch} / {trainer.state.epoch_length}: \"\n",
    "        f\"loss: {trainer.state.output:.3f}\"\n",
    "    )"
   ]
  },
  {
   "cell_type": "code",
   "execution_count": null,
   "id": "ecfd64ff",
   "metadata": {
    "lines_to_next_cell": 1
   },
   "outputs": [],
   "source": [
    "@trainer.on(Events.EPOCH_COMPLETED)\n",
    "def log_epoch(trainer):\n",
    "    print(f\"Epoch {trainer.state.epoch} / {num_epochs} average results: \")\n",
    "\n",
    "    def log_results(name, metrics, epoch):\n",
    "        print(\n",
    "            f\"{name + ':':6} loss: {metrics['loss']:.3f}, \"\n",
    "            f\"accuracy: {metrics['accuracy']:.3f}\"\n",
    "        )\n",
    "        wandb.log({f\"{name}_loss\": metrics[\"loss\"], f\"{name}_accuracy\": metrics[\"accuracy\"]})\n",
    "\n",
    "    # Train data.\n",
    "    evaluator.run(train_loader)\n",
    "    log_results(\"train\", evaluator.state.metrics, trainer.state.epoch)\n",
    "    \n",
    "    # Val data.\n",
    "    if val_loader:\n",
    "        evaluator.run(val_loader)\n",
    "        log_results(\"val\", evaluator.state.metrics, trainer.state.epoch)\n",
    "\n",
    "    # Test data.\n",
    "    if test_loader:\n",
    "        evaluator.run(test_loader)\n",
    "        log_results(\"test\", evaluator.state.metrics, trainer.state.epoch)\n",
    "\n",
    "    print()\n",
    "    print(\"-\" * 80)\n",
    "    print()"
   ]
  },
  {
   "cell_type": "code",
   "execution_count": null,
   "id": "d9779bd9",
   "metadata": {
    "lines_to_next_cell": 1
   },
   "outputs": [],
   "source": [
    "@trainer.on(Events.EPOCH_COMPLETED)\n",
    "def checkpoint_model(trainer):\n",
    "    torch.save(model, checkpoint_dir / f\"model-epoch{trainer.state.epoch}.pt\")"
   ]
  },
  {
   "cell_type": "code",
   "execution_count": null,
   "id": "4f8527e1",
   "metadata": {},
   "outputs": [],
   "source": [
    "# Start training.\n",
    "trainer.run(train_loader, max_epochs=num_epochs)\n",
    "wandb.finish()"
   ]
  }
 ],
 "metadata": {
  "jupytext": {
   "cell_metadata_filter": "-all",
   "main_language": "python",
   "notebook_metadata_filter": "-all"
  }
 },
 "nbformat": 4,
 "nbformat_minor": 5
}